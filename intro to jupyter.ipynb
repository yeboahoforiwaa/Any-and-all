{
 "cells": [
  {
   "cell_type": "code",
   "execution_count": 3,
   "id": "c66b16aa",
   "metadata": {},
   "outputs": [
    {
     "name": "stdout",
     "output_type": "stream",
     "text": [
      "Hello,Jupyter!\n",
      "5 + 3 = 8\n",
      "Name: Python Learner)\n",
      "Age: 19\n",
      "Height: 1.66 centimeters\n",
      " Area of a circle with tadius 5:31.419999999999998\n"
     ]
    }
   ],
   "source": [
    "print(\"Hello,Jupyter!\")\n",
    "x = 5 + 3\n",
    "print(f\"5 + 3 = {x}\")\n",
    "\n",
    "name =\"Python Learner\" \n",
    "age = 19\n",
    "height = 1.66\n",
    "\n",
    "print(f\"Name: {name})\")\n",
    "print(f\"Age: {age}\")\n",
    "print(f\"Height: {height} centimeters\")\n",
    "\n",
    "#Mathematical operations\n",
    "area_circle = 3.142 * (5 * 2)\n",
    "print(f\" Area of a circle with tadius 5:{area_circle}\")\n"
   ]
  },
  {
   "cell_type": "code",
   "execution_count": 4,
   "id": "edbee409",
   "metadata": {},
   "outputs": [
    {
     "ename": "SyntaxError",
     "evalue": "unterminated string literal (detected at line 4) (4093056445.py, line 4)",
     "output_type": "error",
     "traceback": [
      "  \u001b[36mCell\u001b[39m\u001b[36m \u001b[39m\u001b[32mIn[4]\u001b[39m\u001b[32m, line 4\u001b[39m\n\u001b[31m    \u001b[39m\u001b[31mstudents = \"{\u001b[39m\n               ^\n\u001b[31mSyntaxError\u001b[39m\u001b[31m:\u001b[39m unterminated string literal (detected at line 4)\n"
     ]
    }
   ],
   "source": [
    "#Sample 2: Working with Lists and Data\n",
    "#Cell 2: Student grades example ( like our previous project)\n",
    "\n",
    "students = \"{\n",
    "    \"Alice\": [85,92,72]\n",
    "    \"Bob\": [90,88,95]\n",
    "    \"Charlie\": [75,80,85]\n",
    "    \"Diana\": [95,98,92]\n",
    "}\"\n",
    "\n",
    "# Calculate average scores\n",
    "for name, scores in students.items():\n",
    "    average = sum(scores)/ len(scores):\n",
    "        print(f\"{name}: {scores} -> Average; {average}\"):\n",
    "    "
   ]
  },
  {
   "cell_type": "code",
   "execution_count": null,
   "id": "1f1e7313",
   "metadata": {},
   "outputs": [],
   "source": []
  }
 ],
 "metadata": {
  "kernelspec": {
   "display_name": "Python 3",
   "language": "python",
   "name": "python3"
  },
  "language_info": {
   "codemirror_mode": {
    "name": "ipython",
    "version": 3
   },
   "file_extension": ".py",
   "mimetype": "text/x-python",
   "name": "python",
   "nbconvert_exporter": "python",
   "pygments_lexer": "ipython3",
   "version": "3.13.4"
  }
 },
 "nbformat": 4,
 "nbformat_minor": 5
}
